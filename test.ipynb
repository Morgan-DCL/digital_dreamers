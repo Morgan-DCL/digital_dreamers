{
 "cells": [
  {
   "cell_type": "code",
   "execution_count": 6,
   "metadata": {},
   "outputs": [],
   "source": [
    "test = {\n",
    "    'language': 'fr-FR',\n",
    "    'path_clean_df': 'clean_datasets',\n",
    "    'path_download': 'movies_datasets',\n",
    "    'path_streamlit': 'streamlit/datasets',\n",
    "    'tmdb_actors_max': 3,\n",
    "    'tmdb_api_key': 'fe4a6f12753fa6c12b0fc0253b5e667f',\n",
    "    'tmdb_date': 1960,\n",
    "    'tmdb_duration_max': 230,\n",
    "    'tmdb_duration_min': 63,\n",
    "    'tmdb_keywords_max': 10,\n",
    "    'tmdb_rating_avg': 6.3,\n",
    "    'tmdb_votes_min': 5011,\n",
    "    'url_discover': 'https://api.themoviedb.org/3/discover/movie',\n",
    "    'url_movie': 'https://api.themoviedb.org/3/movie/'\n",
    "}"
   ]
  },
  {
   "cell_type": "code",
   "execution_count": 7,
   "metadata": {},
   "outputs": [
    {
     "name": "stdout",
     "output_type": "stream",
     "text": [
      "{'language': 'fr-FR',\n",
      " 'path_clean_df': 'clean_datasets',\n",
      " 'path_download': 'movies_datasets',\n",
      " 'path_streamlit': 'streamlit/datasets',\n",
      " 'tmdb_actors_max': 3,\n",
      " 'tmdb_api_key': 'fe4a6f12753fa6c12b0fc0253b5e667f',\n",
      " 'tmdb_date': 1960,\n",
      " 'tmdb_duration_max': 230,\n",
      " 'tmdb_duration_min': 63,\n",
      " 'tmdb_keywords_max': 10,\n",
      " 'tmdb_rating_avg': 6.3,\n",
      " 'tmdb_votes_min': 5011,\n",
      " 'url_discover': 'https://api.themoviedb.org/3/discover/movie',\n",
      " 'url_movie': 'https://api.themoviedb.org/3/movie/'}\n"
     ]
    }
   ],
   "source": [
    "import pprint\n",
    "\n",
    "pprint.pprint(test)"
   ]
  }
 ],
 "metadata": {
  "kernelspec": {
   "display_name": ".venv",
   "language": "python",
   "name": "python3"
  },
  "language_info": {
   "codemirror_mode": {
    "name": "ipython",
    "version": 3
   },
   "file_extension": ".py",
   "mimetype": "text/x-python",
   "name": "python",
   "nbconvert_exporter": "python",
   "pygments_lexer": "ipython3",
   "version": "3.11.6"
  }
 },
 "nbformat": 4,
 "nbformat_minor": 2
}
